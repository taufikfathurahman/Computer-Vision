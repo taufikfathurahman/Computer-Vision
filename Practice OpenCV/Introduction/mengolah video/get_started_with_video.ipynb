{
 "cells": [
  {
   "cell_type": "markdown",
   "metadata": {},
   "source": [
    "# Mengenal OpenCV (Mengolah Video)\n",
    "\n",
    "OpenCV menyediakan interface yang sangat simple untuk menangkap live stream, seperti menagkap video dengan kamera yang ada pada laptop atau webcam.\n",
    "\n",
    "### Menangkap Video dari Kamera\n",
    "\n",
    "Untuk menangkap video akan dibutuhkan **VIdeoCapture** object. Argument biasanya berupa indeks perangkat (angka untuk menentukan kamera mana) atau nama file video. "
   ]
  },
  {
   "cell_type": "code",
   "execution_count": 1,
   "metadata": {},
   "outputs": [],
   "source": [
    "# Deklarsi library yang akan digunakan pada semua code dibawahnya\n",
    "import cv2"
   ]
  },
  {
   "cell_type": "code",
   "execution_count": 2,
   "metadata": {},
   "outputs": [],
   "source": [
    "cap = cv2.VideoCapture(0)\n",
    "\n",
    "while(True):\n",
    "    # Menangkap frame demi frame\n",
    "    ret, frame = cap.read()\n",
    "    \n",
    "    # Operasi pada setiap frame\n",
    "    gray = cv2.cvtColor(frame, cv2.COLOR_BGR2GRAY)\n",
    "    \n",
    "    # Menampilkan hasil\n",
    "    cv2.imshow('frame', gray)\n",
    "    if cv2.waitKey(1) & 0xFF == ord('q'):\n",
    "        break\n",
    "        \n",
    "# Mengakhiri menangkap ketika semuanya telah selesai\n",
    "cap.release()\n",
    "cv2.destroyAllWindows()"
   ]
  },
  {
   "cell_type": "markdown",
   "metadata": {},
   "source": [
    "> cap.read()\n",
    "    mengembalikan sebuah boolean (true atau false). Jika frame terbaca dengan benar akan mengbalikan True, dan False jika sebaliknya.\n"
   ]
  },
  {
   "cell_type": "markdown",
   "metadata": {},
   "source": [
    "### Memainkan Video dari File\n",
    "\n",
    "Sama halnya dengan menangkap video dengan menggunakan kamera, kita hanya perlu mengganti index kamera dengan nama file video."
   ]
  },
  {
   "cell_type": "code",
   "execution_count": 3,
   "metadata": {},
   "outputs": [],
   "source": [
    "cap = cv2.VideoCapture('Bring Me The Horizon - Drown (Live).webm')\n",
    "\n",
    "while(cap.isOpened()):\n",
    "    ret, frame = cap.read()\n",
    "    \n",
    "    gray = cv2.cvtColor(frame, cv2.COLOR_BGR2GRAY)\n",
    "    \n",
    "    cv2.imshow('frame', gray)\n",
    "    if cv2.waitKey(25) & 0xFF == ord('q'):\n",
    "        break\n",
    "\n",
    "cap.release()\n",
    "cv2.destroyAllWindows()"
   ]
  },
  {
   "cell_type": "markdown",
   "metadata": {},
   "source": [
    "> Ketika menampilan frame, gunakan waktu yang tepat/sesuai pada `cv2.waitKey()`. Pemberian nilai 25 biasanya baik untuk kasus pada umumnya."
   ]
  },
  {
   "cell_type": "markdown",
   "metadata": {},
   "source": [
    "### Menyimpan Sebuah Video\n",
    "\n",
    "Hampir sama dengan penggunaan cv2.imwrite() untuk menyimpan gambar, untuk menyimpan video akan digunakan object VideoWriter.\n",
    "\n",
    "Selanjutnya adalah kita harus menentukan nama file, **ForeCC** code, fps dan frame size, dan yang terakhir adalah **isColor** flag.\n",
    "\n",
    "`FourCC` merupakan 4-byte code yang digunakan untuk menentukan video codec. Berikut beberapa contoh :\n",
    "* Fedora : DIVX, XVID, MJPG, X264, WMV1, WMV2.\n",
    "* Windows : DIVX\n",
    "\n",
    "Contoh deklarasi:\n",
    "\n",
    "`cv2.VideoWriter_fourcc('M', 'J', 'P', 'G')` atau `cv2.VideoWriter_fourcc(*'MJPG')`"
   ]
  },
  {
   "cell_type": "code",
   "execution_count": 4,
   "metadata": {},
   "outputs": [],
   "source": [
    "cap = cv2.VideoCapture(0)\n",
    "\n",
    "# Membuat video codec dan VideoWriter object\n",
    "fourcc = cv2.VideoWriter_fourcc(*'XVID')\n",
    "out = cv2.VideoWriter('output_video.avi', fourcc, 25, (640, 480))\n",
    "\n",
    "while(cap.isOpened()):\n",
    "    ret, frame = cap.read()\n",
    "    if ret == True:\n",
    "        # Melakukan flip pada video hasil tangkapan\n",
    "        frame = cv2.flip(frame, 0)\n",
    "        out.write(frame)\n",
    "        cv2.imshow('frame', frame)\n",
    "        if cv2.waitKey(1) & 0xFF == ord('q'):\n",
    "            break\n",
    "    else:\n",
    "        break\n",
    "        \n",
    "cap.release()\n",
    "out.release()\n",
    "cv2.destroyAllWindows()"
   ]
  },
  {
   "cell_type": "code",
   "execution_count": null,
   "metadata": {},
   "outputs": [],
   "source": []
  }
 ],
 "metadata": {
  "kernelspec": {
   "display_name": "Python 3",
   "language": "python",
   "name": "python3"
  },
  "language_info": {
   "codemirror_mode": {
    "name": "ipython",
    "version": 3
   },
   "file_extension": ".py",
   "mimetype": "text/x-python",
   "name": "python",
   "nbconvert_exporter": "python",
   "pygments_lexer": "ipython3",
   "version": "3.7.1"
  }
 },
 "nbformat": 4,
 "nbformat_minor": 2
}
