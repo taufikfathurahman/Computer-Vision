{
 "cells": [
  {
   "cell_type": "markdown",
   "metadata": {},
   "source": [
    "# Mengenal OpenCV\n",
    "\n",
    "### Membaca Image\n",
    "\n",
    "Menggunakan function cv2.imread() untuk membaca image. Image harus berada di directory yang sama dan bila berbeda directory harus dengan full path-nya.\n",
    "\n",
    "Flag yang menentukan cara gambar harus dibaca :\n",
    "1. cv2.IMREAD_COLOR : memuat image berwana, dengan transparansi gambar akan diabaikan.\n",
    "2. cv2_IMREAD_GRAYSCALE : memuat image dalam grayscale mode.\n",
    "3. cv2.IMREAD_UNCHANGED : memuat image termasuk aplha channel."
   ]
  },
  {
   "cell_type": "code",
   "execution_count": 1,
   "metadata": {},
   "outputs": [],
   "source": [
    "import cv2\n",
    "\n",
    "img = cv2.imread('My_Img.JPG')"
   ]
  },
  {
   "cell_type": "markdown",
   "metadata": {},
   "source": [
    "### Menampilkan Sebuah Image\n",
    "\n",
    "funtion cv2.imshow() digunakan dalam menampilkan image di window. Di dalam function akan terdiri dari dua argumen yaitu window name, dan image yang telah kita baca sebelumnya.\n",
    "\n",
    "**cv2.waitKey()**\n",
    "\n",
    "Adalah keyboard binding function\n",
    "\n",
    "**cv2.destroyAllWindows()**\n",
    "\n",
    "Menghancurkan semua jendela yang telah dibuat\n",
    "\n",
    "**cv2.namedWindow()**\n",
    "\n",
    "Menentukan jendela dapat diubah ukurannya atau tidak. Flag yang dapat digunakan :\n",
    "* cv2.WINDOW_AUTOSIZE\n",
    "* cv2.WINDOW_NORMAL\n",
    "\n"
   ]
  },
  {
   "cell_type": "code",
   "execution_count": 2,
   "metadata": {},
   "outputs": [],
   "source": [
    "cv2.imshow('My Photo', img)\n",
    "cv2.waitKey(0)\n",
    "cv2.destroyAllWindows()"
   ]
  },
  {
   "cell_type": "code",
   "execution_count": 3,
   "metadata": {},
   "outputs": [],
   "source": [
    "cv2.namedWindow('My Photo', cv2.WINDOW_NORMAL)\n",
    "cv2.imshow('My Photo',img)\n",
    "cv2.waitKey(0)\n",
    "cv2.destroyAllWindows()"
   ]
  },
  {
   "cell_type": "markdown",
   "metadata": {},
   "source": [
    "### Menulis Sebuah Image\n",
    "\n",
    "Digunakan function cv2.imwrite() untuk menyimpan image, yang memiliki dua argumen, yaitu file name, dan image yang ingin disimpan."
   ]
  },
  {
   "cell_type": "code",
   "execution_count": 4,
   "metadata": {},
   "outputs": [
    {
     "data": {
      "text/plain": [
       "True"
      ]
     },
     "execution_count": 4,
     "metadata": {},
     "output_type": "execute_result"
    }
   ],
   "source": [
    "img = cv2.imread('My_Img.JPG', 0)\n",
    "# Membaca image kedalam grayscale\n",
    "cv2.imwrite('myGreyscale.JPG',img)"
   ]
  },
  {
   "cell_type": "markdown",
   "metadata": {},
   "source": []
  }
 ],
 "metadata": {
  "kernelspec": {
   "display_name": "Python 3",
   "language": "python",
   "name": "python3"
  },
  "language_info": {
   "codemirror_mode": {
    "name": "ipython",
    "version": 3
   },
   "file_extension": ".py",
   "mimetype": "text/x-python",
   "name": "python",
   "nbconvert_exporter": "python",
   "pygments_lexer": "ipython3",
   "version": "3.7.1"
  }
 },
 "nbformat": 4,
 "nbformat_minor": 2
}
